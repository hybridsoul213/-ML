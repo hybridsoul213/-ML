{
  "nbformat": 4,
  "nbformat_minor": 0,
  "metadata": {
    "colab": {
      "provenance": []
    },
    "kernelspec": {
      "name": "python3",
      "display_name": "Python 3"
    },
    "language_info": {
      "name": "python"
    }
  },
  "cells": [
    {
      "cell_type": "markdown",
      "source": [
        "### Модуль 5. Продуктовый аналитик\n",
        "\n",
        "Сегодня твоя задача - создать грамотную продуктовую гипотезу по всем правилам.\n",
        "\n",
        "Пусть твоя онлайн-школа называется **\"Другое\"**. Она на 4-м месте, поскольку из 10 Пб данных часть таблиц используется неправильно, клиентские серверы работают медленно, работа аналитиков разрозненна и неуполрядочена. Сейчас стоит вопрос об инвестициях в большие серверы в надежде, что ситуация исправится.  \n",
        "\n",
        "Пожалуйста, ознакомься со статистикой и предложи как вывести онлайн-школу \"Другое\" на **первое место**."
      ],
      "metadata": {
        "id": "MlDbbLv8fssG"
      }
    },
    {
      "cell_type": "code",
      "source": [
        "%%html\n",
        "                                                                                                                                                                                         <div class='tableauPlaceholder' id='viz1753210471159' style='position: relative'><noscript><a href='#'><img alt='Survey ' src='https:&#47;&#47;public.tableau.com&#47;static&#47;images&#47;20&#47;2024_17276804878150&#47;Survey&#47;1_rss.png' style='border: none' /></a></noscript><object class='tableauViz'  style='display:none;'><param name='host_url' value='https%3A%2F%2Fpublic.tableau.com%2F' /> <param name='embed_code_version' value='3' /> <param name='site_root' value='' /><param name='name' value='2024_17276804878150&#47;Survey' /><param name='tabs' value='no' /><param name='toolbar' value='yes' /><param name='static_image' value='https:&#47;&#47;public.tableau.com&#47;static&#47;images&#47;20&#47;2024_17276804878150&#47;Survey&#47;1.png' /> <param name='animate_transition' value='yes' /><param name='display_static_image' value='yes' /><param name='display_spinner' value='yes' /><param name='display_overlay' value='yes' /><param name='display_count' value='yes' /><param name='language' value='en-US' /></object></div>                <script type='text/javascript'>                    var divElement = document.getElementById('viz1753210471159');                    var vizElement = divElement.getElementsByTagName('object')[0];                    vizElement.style.minWidth='1200px';vizElement.style.maxWidth='1920px';vizElement.style.width='100%';vizElement.style.height='1227px';                    var scriptElement = document.createElement('script');                    scriptElement.src = 'https://public.tableau.com/javascripts/api/viz_v1.js';                    vizElement.parentNode.insertBefore(scriptElement, vizElement);                </script>"
      ],
      "metadata": {
        "colab": {
          "base_uri": "https://localhost:8080/",
          "height": 1000
        },
        "id": "inA3L8q4cjmK",
        "outputId": "117027f1-1c31-498c-fdb5-7a5d72448d4f"
      },
      "execution_count": null,
      "outputs": [
        {
          "output_type": "display_data",
          "data": {
            "text/plain": [
              "<IPython.core.display.HTML object>"
            ],
            "text/html": [
              "                                                                                                                                                                                         <div class='tableauPlaceholder' id='viz1753210471159' style='position: relative'><noscript><a href='#'><img alt='Survey ' src='https:&#47;&#47;public.tableau.com&#47;static&#47;images&#47;20&#47;2024_17276804878150&#47;Survey&#47;1_rss.png' style='border: none' /></a></noscript><object class='tableauViz'  style='display:none;'><param name='host_url' value='https%3A%2F%2Fpublic.tableau.com%2F' /> <param name='embed_code_version' value='3' /> <param name='site_root' value='' /><param name='name' value='2024_17276804878150&#47;Survey' /><param name='tabs' value='no' /><param name='toolbar' value='yes' /><param name='static_image' value='https:&#47;&#47;public.tableau.com&#47;static&#47;images&#47;20&#47;2024_17276804878150&#47;Survey&#47;1.png' /> <param name='animate_transition' value='yes' /><param name='display_static_image' value='yes' /><param name='display_spinner' value='yes' /><param name='display_overlay' value='yes' /><param name='display_count' value='yes' /><param name='language' value='en-US' /></object></div>                <script type='text/javascript'>                    var divElement = document.getElementById('viz1753210471159');                    var vizElement = divElement.getElementsByTagName('object')[0];                    vizElement.style.minWidth='1200px';vizElement.style.maxWidth='1920px';vizElement.style.width='100%';vizElement.style.height='1227px';                    var scriptElement = document.createElement('script');                    scriptElement.src = 'https://public.tableau.com/javascripts/api/viz_v1.js';                    vizElement.parentNode.insertBefore(scriptElement, vizElement);                </script>\n"
            ]
          },
          "metadata": {}
        }
      ]
    },
    {
      "cell_type": "markdown",
      "source": [
        "### Задание №1\n",
        "\n",
        "Нужно выбрать основные показатели(метрики) продукта и построить пирамиду(иерархию) метрик.\n",
        "\n",
        "Какие метрики ты выберешь для онлайн-школы \"Другое\" ?"
      ],
      "metadata": {
        "id": "nU3kqFNSllIg"
      }
    },
    {
      "cell_type": "code",
      "source": [],
      "metadata": {
        "id": "t3H2PE9hmStk"
      },
      "execution_count": null,
      "outputs": []
    },
    {
      "cell_type": "markdown",
      "source": [
        "### Задание №2\n",
        "\n",
        "\n",
        "Продуктовая гипотеза — это предположение о том, что произойдет с продуктом после внесения определенного изменения. Она помогает определить, как изменение продукта повлияет на пользователей и на бизнес в целом.\n",
        "\n",
        "**Продуктовая гипотеза содержит несколько ключевых элементов, таких как:**\n",
        "\n",
        "* Изменение продукта: что будет изменено или добавлено в продукт.\n",
        "* Целевая аудитория: кто будет использовать измененный продукт и какие проблемы они имеют.\n",
        "* Ожидаемый результат: как изменение продукта повлияет на пользователей и бизнес.\n",
        "\n",
        "Выбери одну бизнес-метрику, одним предложением опиши любое изменение продукта (например, добавить видео в уроки/убрать видео из уроков/добавить графику/убрать графику/ т.д.) для целевой аудитории 25-34 года из России и подробно опиши как вушеупомянутое изменение продукта повлияет на ожидаемый результат (метрику)."
      ],
      "metadata": {
        "id": "MVYPseq-m6jb"
      }
    },
    {
      "cell_type": "code",
      "source": [],
      "metadata": {
        "id": "GGrZbgePsqqb"
      },
      "execution_count": null,
      "outputs": []
    },
    {
      "cell_type": "markdown",
      "source": [
        "### Задание №3\n",
        "\n",
        "Количество уникальных пользователей, которые использовали приложение в течение месяца (MAU), недели (WAU) или дня (DAU). Пример для расчета DAU:\n",
        "```sql\n",
        "WITH daily_data AS (\n",
        "  SELECT DATE_TRUNC('day', student_enrolment_date) AS day, user_id\n",
        "  FROM students_events_table_fact\n",
        ")\n",
        "SELECT day, COUNT(DISTINCT user_id) AS DAU\n",
        "FROM daily_data\n",
        "GROUP BY day;\n",
        "```\n",
        "\n",
        "Напиши SQL-запрос для расчёта WAU"
      ],
      "metadata": {
        "id": "HyeOEFOao4L2"
      }
    },
    {
      "cell_type": "code",
      "source": [
        "WITH weekly_data AS (\n",
        "  SELECT DATE_TRUNC('week', student_enrolment_date) AS week, user_id\n",
        "  FROM students_events_table_fact\n",
        ")\n",
        "SELECT week, COUNT(DISTINCT user_id) AS WAU\n",
        "FROM weekly_data\n",
        "GROUP BY week;"
      ],
      "metadata": {
        "id": "BBVGz3rTqDVB"
      },
      "execution_count": null,
      "outputs": []
    },
    {
      "cell_type": "markdown",
      "source": [
        "### Задание №4\n",
        "\n",
        "\n",
        "Ролевое измерение (Role-Playing Dimension) может использоваться по-разному в одной и той же таблице или других таблицах модели данных - это фактически одно и то же измерение, но представленное с разных точек зрения.\n",
        "\n",
        "* Опиши как ты будешь проектировать ролевое измерение \"Дата\", которое одновременно используется как \"Дата зачисления\" и как \"Дата завершения\" в таблице фактов (**students_events_table_fact в задании №4**) о зачислении студента на курс и успешном завершении студентом курса.\n",
        "\n",
        "* Напиши SQL-запрос для создания таблицы ролевого измерения \"Дата\"\n",
        "```sql\n",
        "CREATE TABLE dates_dim\n",
        "```"
      ],
      "metadata": {
        "id": "kwRMhttei4jx"
      }
    },
    {
      "cell_type": "code",
      "source": [],
      "metadata": {
        "id": "Va8mo8HZmTaD"
      },
      "execution_count": null,
      "outputs": []
    },
    {
      "cell_type": "markdown",
      "source": [
        "### Задание №5\n",
        "\n",
        "Конечно, можно посчитать ARPU (Средний доход с одного пользователя -  показывает среднюю сумму денег, которую каждый пользователь тратит в продукте за месяц) поделив выручку на общее количество пользователей. Но так мы получим малоинформативную метрику с отставанием на 1 месяц.\n",
        "\n",
        "```sql\n",
        "SELECT\n",
        "\tto_char(eventtime, 'YYYY-mm-dd') as \"Дата\",\n",
        "\tsum(priceRUB) as \"Выручка\",\n",
        "\tcount(user_id) as \"К-во зачислений на курсы\",\n",
        "\tcount(distinct user_id) as \"Количество студентов\",\n",
        "\tavg(priceRUB) as \"Средний чек\",\n",
        "\tsum(priceRUB)/count(distinct user_id)) as \"ARPU\"  \n",
        "FROM myproduct.payments\n",
        "WHERE eventtime>=current_date - interval '1 month'\n",
        "AND eventtime < current_date\n",
        "GROUP BY 1\n",
        "```\n",
        "Перепиши неудачный питоновский код, чтобы считать ARPU за предыдущий день и **обязательно** раздели код на \"Слой приложения\" и \"Слой инфраструктуры\" по архитектуре DDD."
      ],
      "metadata": {
        "id": "xT8QW2ULuC5b"
      }
    },
    {
      "cell_type": "markdown",
      "source": [
        "```python\n",
        "query = \"\"\"\n",
        "        SELECT\n",
        "          to_char(eventtime, 'YYYY-mm-dd') as \"Дата\",\n",
        "          sum(priceRUB) as \"Выручка\",\n",
        "          count(user_id) as \"К-во зачислений на курсы\",\n",
        "          count(distinct user_id) as \"Количество студентов\",\n",
        "          avg(priceRUB) as \"Средний чек\",\n",
        "          sum(priceRUB)/count(distinct user_id)) as \"ARPU\"  \n",
        "      FROM myproduct.payments\n",
        "      -- если ClickHouse, то лучше использовать быстрый PREWHERE\n",
        "      WHERE eventtime>=current_date - interval '1 month' -- <- переделай за предыдущий день\n",
        "      AND eventtime < current_date\n",
        "      GROUP BY 1      \n",
        "\"\"\"\n",
        "try:\n",
        "    import psycopg2\n",
        "    print(\"Psycopg2 установлен.\")\n",
        "    connection = psycopg2.connect(\"dbname='db' user='user' password='password' host='localhost'\")\n",
        "except ImportError:\n",
        "    print(\"Psycopg2 не установлен.\")\n",
        "    try:\n",
        "      import pymysql.cursors\n",
        "      connection = pymysql.connect(host='localhost',\n",
        "                                  user='user',\n",
        "                                  password='password',\n",
        "                                  database='db',\n",
        "                                  charset='utf8mb4',\n",
        "                                  cursorclass=pymysql.cursors.DictCursor)\n",
        "    except:\n",
        "      print(\"pymysql не установлен.\")\n",
        "      import clickhouse_connect\n",
        "      client = clickhouse_connect.get_client(host='localhost', username='user', password='password')\n",
        "      result = client.query(query.replace(\"WHERE\", \"PREWHERE\").replace(\"AND\", \"WHERE\")).result_rows\n",
        "      print(result)\n",
        "      exit()\n",
        "\n",
        "with connection:\n",
        "    with connection.cursor() as cursor:\n",
        "        cursor.execute(query)\n",
        "        result = cursor.fetchall()\n",
        "print(result)    \n",
        "```"
      ],
      "metadata": {
        "id": "1fimxHbaSgOs"
      }
    }
  ]
}